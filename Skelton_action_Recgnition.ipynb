{
  "nbformat": 4,
  "nbformat_minor": 0,
  "metadata": {
    "kernelspec": {
      "display_name": "Python 3",
      "language": "python",
      "name": "python3"
    },
    "language_info": {
      "codemirror_mode": {
        "name": "ipython",
        "version": 3
      },
      "file_extension": ".py",
      "mimetype": "text/x-python",
      "name": "python",
      "nbconvert_exporter": "python",
      "pygments_lexer": "ipython3",
      "version": "3.7.7"
    },
    "colab": {
      "provenance": []
    }
  },
  "cells": [
    {
      "cell_type": "markdown",
      "metadata": {
        "id": "ACx1o22xC7Th"
      },
      "source": [
        "<div style=\"background:#6689b3;color:#fff;padding:1em 2em 1.5em 2em;border-radius: 5px;font-weight:bold\">\n",
        "    <strong>\n",
        "        <h1 style = \"color:#fff\">SKELETON BASED ACTION RECOGNITION</h1>\n",
        "    </strong>\n",
        "</div>"
      ]
    },
    {
      "cell_type": "markdown",
      "metadata": {
        "id": "x-QiLplQC7To"
      },
      "source": [
        "<h3>Problem Statement</h3>\n",
        "<p>To Develop and Evaluate a machine learning model for a 3D skeleton-based action recognition system using UTD MHAD dataset. </p>"
      ]
    },
    {
      "cell_type": "markdown",
      "metadata": {
        "id": "kMDlbXmuC7Tp"
      },
      "source": [
        "![image.png](attachment:image.png)"
      ]
    },
    {
      "cell_type": "markdown",
      "metadata": {
        "id": "DpCLokYFC7Tr"
      },
      "source": [
        "<h3>Feature Extraction</h3>\n",
        "<p>To Calculate the  Euclidean distance  between Shoulder center joint to remaining all joints.</p>"
      ]
    },
    {
      "cell_type": "markdown",
      "metadata": {
        "id": "ap28C08_C7Tr"
      },
      "source": [
        "<div style=\"background:#6689b3;color:#fff;padding:1em 2em 1.5em 2em;border-radius: 5px;font-weight:bold\">\n",
        "    <strong>\n",
        "        <h4 style = \"color:#fff\">1 | Importing the Required Packages</h4>\n",
        "    </strong>\n",
        "</div>"
      ]
    },
    {
      "cell_type": "code",
      "metadata": {
        "id": "wuqN7PasC7Ts"
      },
      "source": [
        "import os\n",
        "import pandas as pd\n",
        "import numpy as np\n",
        "import seaborn as sns\n",
        "from scipy.io import loadmat\n",
        "import matplotlib.pyplot as plt\n",
        "from mpl_toolkits import mplot3d\n",
        "\n",
        "from sklearn.metrics import accuracy_score, confusion_matrix\n",
        "from sklearn.preprocessing import MinMaxScaler\n",
        "from sklearn.linear_model import LogisticRegression\n",
        "from sklearn.naive_bayes import MultinomialNB, GaussianNB\n",
        "from sklearn.ensemble import ExtraTreesClassifier\n",
        "from sklearn.tree import DecisionTreeClassifier\n",
        "from sklearn.neighbors import KNeighborsClassifier\n",
        "\n",
        "from pycaret.classification import *\n",
        "from xgboost import XGBClassifier\n",
        "from lightgbm import LGBMClassifier"
      ],
      "execution_count": null,
      "outputs": []
    },
    {
      "cell_type": "markdown",
      "metadata": {
        "id": "zhkxBzxQC7Tu"
      },
      "source": [
        "<div style=\"background:#6689b3;color:#fff;padding:1em 2em 1.5em 2em;border-radius: 5px;font-weight:bold\">\n",
        "    <strong>\n",
        "        <h4 style = \"color:#fff\">2 | Read data from mat files & splitting test and train data</h4>\n",
        "    </strong>\n",
        "</div>"
      ]
    },
    {
      "cell_type": "code",
      "metadata": {
        "id": "-O2VLTiIC7Tw"
      },
      "source": [
        "train = []\n",
        "test = []\n",
        "dataDir = \"./Skeleton/\"\n",
        "for file in os.listdir(dataDir):\n",
        "    if file.endswith(\".mat\"):\n",
        "        if \"s2\" in file or \"s4\" in file or \"s6\" in file or \"s8\" in file:\n",
        "            train.append([loadmat(dataDir+file)[\"d_skel\"],file.split(\"_\")[0]])\n",
        "        else:\n",
        "            test.append([loadmat(dataDir+file)[\"d_skel\"],file.split(\"_\")[0]])"
      ],
      "execution_count": null,
      "outputs": []
    },
    {
      "cell_type": "markdown",
      "metadata": {
        "id": "zP899z7VC7Ty"
      },
      "source": [
        "<div style=\"background:#6689b3;color:#fff;padding:1em 2em 1.5em 2em;border-radius: 5px;font-weight:bold\">\n",
        "    <strong>\n",
        "        <h4 style = \"color:#fff\">3 | Trimming the frames </h4>\n",
        "    </strong>\n",
        "</div>"
      ]
    },
    {
      "cell_type": "code",
      "metadata": {
        "id": "DRy-DnK7C7Tz"
      },
      "source": [
        "def trim(x,minvalue):\n",
        "    r = (x.shape[2]/(minvalue) )\n",
        "    array = []\n",
        "    t=0+r\n",
        "    i=int(t)\n",
        "    # print(x.shape[2])\n",
        "    while i+1 < x.shape[2]:\n",
        "        array.append( x[:,:,i] + ( (x[:,:,i] - x[:,:,i+1])*(t-i) )  )\n",
        "        t+=r\n",
        "        i=int(t)-1\n",
        "    return np.array(array)[:40].transpose(1,2,0)"
      ],
      "execution_count": null,
      "outputs": []
    },
    {
      "cell_type": "code",
      "metadata": {
        "id": "J2TTH343C7T0",
        "outputId": "d1d4a723-916c-4659-bade-d5a367635db0"
      },
      "source": [
        "print(test[-1][0].shape)\n",
        "print(trim(test[-1][0],41).shape)"
      ],
      "execution_count": null,
      "outputs": [
        {
          "name": "stdout",
          "output_type": "stream",
          "text": [
            "(20, 3, 74)\n",
            "(20, 3, 40)\n"
          ]
        }
      ]
    },
    {
      "cell_type": "markdown",
      "metadata": {
        "id": "31y_kmEmC7T2"
      },
      "source": [
        "<div style=\"background:#6689b3;color:#fff;padding:1em 2em 1.5em 2em;border-radius: 5px;font-weight:bold\">\n",
        "    <strong>\n",
        "        <h4 style = \"color:#fff\">4 | Euclidean distance from shoulder center to joint points</h4>\n",
        "    </strong>\n",
        "</div>"
      ]
    },
    {
      "cell_type": "markdown",
      "metadata": {
        "id": "Fz614oq6C7T3"
      },
      "source": [
        "Function to find euclidean distance from shoulder center to all the joints"
      ]
    },
    {
      "cell_type": "markdown",
      "metadata": {
        "id": "fv8VOSQoC7T4"
      },
      "source": [
        "![image.png](attachment:image.png)"
      ]
    },
    {
      "cell_type": "code",
      "metadata": {
        "id": "NGXMdjGzC7T4"
      },
      "source": [
        "d = lambda x1,y1,z1,x2,y2,z2 : ((x1-x2)**2 + (y1-y2)**2 + (z1-z2)**2)**0.5\n",
        "def dist_func(skl):\n",
        "    dvals = d(skl[:,0,:],skl[:,1,:],skl[:,2,:],skl[1,0,:],skl[1,1,:],skl[1,2,:])\n",
        "    dvals = (dvals[:]-dvals.mean())/dvals.std()\n",
        "    return dvals"
      ],
      "execution_count": null,
      "outputs": []
    },
    {
      "cell_type": "markdown",
      "metadata": {
        "id": "xDoEIncMC7T5"
      },
      "source": [
        "<h3>Finding the euclidean distance using manual method</h3><br>\n",
        "storing the x, y and z of all the joint points of first frame"
      ]
    },
    {
      "cell_type": "code",
      "metadata": {
        "id": "z8YnS9S3C7T5"
      },
      "source": [
        "x = train[0][0][:,0,0]\n",
        "y = train[0][0][:,1,0]\n",
        "z = train[0][0][:,2,0]"
      ],
      "execution_count": null,
      "outputs": []
    },
    {
      "cell_type": "markdown",
      "metadata": {
        "id": "BnsWU3oYC7T6"
      },
      "source": [
        "euclidean distance from shoulder center to all other joint points"
      ]
    },
    {
      "cell_type": "code",
      "metadata": {
        "id": "IyBBXHyAC7T6",
        "outputId": "c7fa4dac-3a85-459d-bc0f-51a013105d6c"
      },
      "source": [
        "d(x,y,z,x[1],y[1],z[1])"
      ],
      "execution_count": null,
      "outputs": [
        {
          "data": {
            "text/plain": [
              "array([0.18737894, 0.        , 0.3375911 , 0.40064118, 0.19117409,\n",
              "       0.41033581, 0.61674484, 0.67288064, 0.19073015, 0.42157014,\n",
              "       0.62030849, 0.66694728, 0.47689756, 0.87298177, 1.18538134,\n",
              "       1.24451119, 0.4745527 , 0.88795728, 1.18851692, 1.24497871])"
            ]
          },
          "execution_count": 7,
          "metadata": {},
          "output_type": "execute_result"
        }
      ]
    },
    {
      "cell_type": "markdown",
      "metadata": {
        "id": "GeQEWTvSC7T7"
      },
      "source": [
        "<h3>Finding the euclidean distance using dist_func (numpy slicing and lambda mapping)</h3><br>\n",
        "storing the x, y and z of all the joint points of first frame"
      ]
    },
    {
      "cell_type": "code",
      "metadata": {
        "id": "Sq3AnANwC7T7",
        "outputId": "5cf1b54a-d256-4536-ad5b-14b9d73f5e17"
      },
      "source": [
        "np.array([dist_func(train[0][0])[i][0] for i in range(20)])"
      ],
      "execution_count": null,
      "outputs": [
        {
          "data": {
            "text/plain": [
              "array([-1.11345107, -1.60632262, -0.71834103, -0.55249747, -1.10346851,\n",
              "       -0.52699723,  0.01593005,  0.16358664, -1.10463624, -0.49744705,\n",
              "        0.02530367,  0.14797986, -0.35191676,  0.68992195,  1.5116411 ,\n",
              "        1.66717308, -0.35808455,  0.72931275,  1.51988875,  1.66840282])"
            ]
          },
          "execution_count": 8,
          "metadata": {},
          "output_type": "execute_result"
        }
      ]
    },
    {
      "cell_type": "markdown",
      "metadata": {
        "id": "8fmmhGYeC7T8"
      },
      "source": [
        "<div style=\"background:#6689b3;color:#fff;padding:1em 2em 1.5em 2em;border-radius: 5px;font-weight:bold\">\n",
        "    <strong>\n",
        "        <h4 style = \"color:#fff\">5 | Finding the distance for the values stored in train and test dataset</h4>\n",
        "    </strong>\n",
        "</div>"
      ]
    },
    {
      "cell_type": "code",
      "metadata": {
        "id": "4RYXydi6C7T8"
      },
      "source": [
        "def return_distance_and_action(mats):\n",
        "    x = []\n",
        "    y = []\n",
        "    for skl in mats:\n",
        "        x.append(dist_func(trim(skl[0],41)).flatten())\n",
        "        y.append(skl[1])\n",
        "    return np.array(x),np.array(y)"
      ],
      "execution_count": null,
      "outputs": []
    },
    {
      "cell_type": "code",
      "metadata": {
        "id": "1JzxqJakC7T9"
      },
      "source": [
        "X_train,y_train = return_distance_and_action(train)\n",
        "X_test,y_test = return_distance_and_action(test)"
      ],
      "execution_count": null,
      "outputs": []
    },
    {
      "cell_type": "markdown",
      "metadata": {
        "id": "OhnvnQ6yC7T9"
      },
      "source": [
        "<div style=\"background:#6689b3;color:#fff;padding:1em 2em 1.5em 2em;border-radius: 5px;font-weight:bold\">\n",
        "    <strong>\n",
        "        <h4 style = \"color:#fff\">6 | Data Modelling using classification algorithms</h4>\n",
        "    </strong>\n",
        "</div>"
      ]
    },
    {
      "cell_type": "markdown",
      "metadata": {
        "id": "d1yigslUC7T-"
      },
      "source": [
        "<h3>Logistic Regression</h3>"
      ]
    },
    {
      "cell_type": "code",
      "metadata": {
        "id": "WNos0XXLC7T-",
        "outputId": "57a2191b-47c5-47bd-d666-13cbb652e3d5"
      },
      "source": [
        "lr = LogisticRegression()\n",
        "lr.fit(X_train, y_train)\n",
        "y_pred = lr.predict(X_test)\n",
        "print(\"Accuracy: \",(accuracy_score(y_test, y_pred)))"
      ],
      "execution_count": null,
      "outputs": [
        {
          "name": "stdout",
          "output_type": "stream",
          "text": [
            "Accuracy:  0.6751740139211136\n"
          ]
        }
      ]
    },
    {
      "cell_type": "code",
      "metadata": {
        "scrolled": true,
        "id": "5mJh3pO5C7UB",
        "outputId": "53d65e1c-6455-4d38-ccbe-a2a4d5159979"
      },
      "source": [
        "sns.heatmap(confusion_matrix(y_test,y_pred))"
      ],
      "execution_count": null,
      "outputs": [
        {
          "data": {
            "text/plain": [
              "<matplotlib.axes._subplots.AxesSubplot at 0x2532278e3c8>"
            ]
          },
          "execution_count": 12,
          "metadata": {},
          "output_type": "execute_result"
        },
        {
          "data": {
            "image/png": "[encoded data removed]",
            "text/plain": [
              "<Figure size 432x288 with 2 Axes>"
            ]
          },
          "metadata": {
            "needs_background": "light"
          },
          "output_type": "display_data"
        }
      ]
    },
    {
      "cell_type": "markdown",
      "metadata": {
        "id": "5Xd_A1SLC7UC"
      },
      "source": [
        "<h3>KNN</h3>"
      ]
    },
    {
      "cell_type": "code",
      "metadata": {
        "id": "B3pzBXjyC7UC",
        "outputId": "89d0bc7b-cb5f-433e-9a5c-19fa54479560"
      },
      "source": [
        "knn = KNeighborsClassifier(n_neighbors = 3)\n",
        "knn.fit(X_train, y_train)\n",
        "y_pred = knn.predict(X_test)\n",
        "print(\"Accuracy: \",accuracy_score(y_test,y_pred))"
      ],
      "execution_count": null,
      "outputs": [
        {
          "name": "stdout",
          "output_type": "stream",
          "text": [
            "Accuracy:  0.5986078886310905\n"
          ]
        }
      ]
    },
    {
      "cell_type": "code",
      "metadata": {
        "scrolled": true,
        "id": "GSVKUp0CC7UD",
        "outputId": "fd2bbfa0-f3dc-44be-b449-11985d90609f"
      },
      "source": [
        "sns.heatmap(confusion_matrix(y_test,y_pred))"
      ],
      "execution_count": null,
      "outputs": [
        {
          "data": {
            "text/plain": [
              "<matplotlib.axes._subplots.AxesSubplot at 0x25326aa9e88>"
            ]
          },
          "execution_count": 14,
          "metadata": {},
          "output_type": "execute_result"
        },
        {
          "data": {
            "image/png": "[encoded data removed]",
            "text/plain": [
              "<Figure size 432x288 with 2 Axes>"
            ]
          },
          "metadata": {
            "needs_background": "light"
          },
          "output_type": "display_data"
        }
      ]
    },
    {
      "cell_type": "markdown",
      "metadata": {
        "id": "ES8Cig95C7UD"
      },
      "source": [
        "<h3>Multinomial Naive Bayes</h3>"
      ]
    },
    {
      "cell_type": "code",
      "metadata": {
        "scrolled": true,
        "id": "sS2vqcM2C7UD",
        "outputId": "b4974684-dbdd-48b3-a9b5-a58a0cb483d6"
      },
      "source": [
        "mnb = MultinomialNB()\n",
        "ms = MinMaxScaler()\n",
        "mnb.fit(ms.fit_transform(X_train), y_train)\n",
        "y_pred = mnb.predict(ms.fit_transform(X_test))\n",
        "print(\"Accuracy: \",accuracy_score(y_test,y_pred))"
      ],
      "execution_count": null,
      "outputs": [
        {
          "name": "stdout",
          "output_type": "stream",
          "text": [
            "Accuracy:  0.5870069605568445\n"
          ]
        }
      ]
    },
    {
      "cell_type": "code",
      "metadata": {
        "scrolled": true,
        "id": "MThCmGgNC7UE",
        "outputId": "f36ef969-1f02-42b7-c1c6-ca3e7f13ef70"
      },
      "source": [
        "sns.heatmap(confusion_matrix(y_test,y_pred))"
      ],
      "execution_count": null,
      "outputs": [
        {
          "data": {
            "text/plain": [
              "<matplotlib.axes._subplots.AxesSubplot at 0x25320773508>"
            ]
          },
          "execution_count": 16,
          "metadata": {},
          "output_type": "execute_result"
        },
        {
          "data": {
            "image/png": "[encoded data removed]",
            "text/plain": [
              "<Figure size 432x288 with 2 Axes>"
            ]
          },
          "metadata": {
            "needs_background": "light"
          },
          "output_type": "display_data"
        }
      ]
    },
    {
      "cell_type": "markdown",
      "metadata": {
        "id": "dnSJe5ckC7UF"
      },
      "source": [
        "<h3>Gaussian Naive Bayes</h3>"
      ]
    },
    {
      "cell_type": "code",
      "metadata": {
        "id": "qdA7aJZRC7UF",
        "outputId": "1cb547f8-b7ec-44d8-abdd-39ce85c4c92f"
      },
      "source": [
        "gnb = GaussianNB()\n",
        "gnb.fit(X_train, y_train)\n",
        "y_pred = gnb.predict(X_test)\n",
        "print(\"Accuracy: \",accuracy_score(y_test,y_pred))"
      ],
      "execution_count": null,
      "outputs": [
        {
          "name": "stdout",
          "output_type": "stream",
          "text": [
            "Accuracy:  0.5707656612529002\n"
          ]
        }
      ]
    },
    {
      "cell_type": "code",
      "metadata": {
        "scrolled": false,
        "id": "MarM0ZICC7UF",
        "outputId": "4081d5b7-f123-4e3a-ada4-71e87a6e09c4"
      },
      "source": [
        "sns.heatmap(confusion_matrix(y_test,y_pred))"
      ],
      "execution_count": null,
      "outputs": [
        {
          "data": {
            "text/plain": [
              "<matplotlib.axes._subplots.AxesSubplot at 0x25326c94348>"
            ]
          },
          "execution_count": 18,
          "metadata": {},
          "output_type": "execute_result"
        },
        {
          "data": {
            "image/png": "[encoded data removed]",
            "text/plain": [
              "<Figure size 432x288 with 2 Axes>"
            ]
          },
          "metadata": {
            "needs_background": "light"
          },
          "output_type": "display_data"
        }
      ]
    },
    {
      "cell_type": "markdown",
      "metadata": {
        "id": "1XC8gpuqC7UG"
      },
      "source": [
        "<h3>XGBoost Classifier</h3>"
      ]
    },
    {
      "cell_type": "code",
      "metadata": {
        "id": "fsEhHeRrC7UG",
        "outputId": "74f51c5a-5da4-4fe4-d889-4bd94f39069d"
      },
      "source": [
        "xgb = XGBClassifier()\n",
        "xgb.fit(X_train, y_train)\n",
        "y_pred = xgb.predict(X_test)\n",
        "print(\"Accuracy: \",accuracy_score(y_test,y_pred))"
      ],
      "execution_count": null,
      "outputs": [
        {
          "name": "stdout",
          "output_type": "stream",
          "text": [
            "[20:16:03] WARNING: C:/Users/Administrator/workspace/xgboost-win64_release_1.4.0/src/learner.cc:1095: Starting in XGBoost 1.3.0, the default evaluation metric used with the objective 'multi:softprob' was changed from 'merror' to 'mlogloss'. Explicitly set eval_metric if you'd like to restore the old behavior.\n",
            "Accuracy:  0.5220417633410673\n"
          ]
        }
      ]
    },
    {
      "cell_type": "code",
      "metadata": {
        "scrolled": true,
        "id": "M0Dm09LnC7UH",
        "outputId": "8c19a7da-6c65-4146-8529-4b168e6f4a93"
      },
      "source": [
        "sns.heatmap(confusion_matrix(y_test,y_pred))"
      ],
      "execution_count": null,
      "outputs": [
        {
          "data": {
            "text/plain": [
              "<matplotlib.axes._subplots.AxesSubplot at 0x25327d58a08>"
            ]
          },
          "execution_count": 20,
          "metadata": {},
          "output_type": "execute_result"
        },
        {
          "data": {
            "image/png": "[encoded data removed]",
            "text/plain": [
              "<Figure size 432x288 with 2 Axes>"
            ]
          },
          "metadata": {
            "needs_background": "light"
          },
          "output_type": "display_data"
        }
      ]
    },
    {
      "cell_type": "markdown",
      "metadata": {
        "id": "9_yIoJ6RC7UH"
      },
      "source": [
        "<h3>ExtraTrees Classifier</h3>"
      ]
    },
    {
      "cell_type": "code",
      "metadata": {
        "id": "T12y5KghC7UH",
        "outputId": "4dc72046-362b-4c27-981a-232f9cb63d76"
      },
      "source": [
        "etc = ExtraTreesClassifier()\n",
        "etc.fit(X_train, y_train)\n",
        "y_pred = etc.predict(X_test)\n",
        "print(\"Accuracy: \",accuracy_score(y_test,y_pred))"
      ],
      "execution_count": null,
      "outputs": [
        {
          "name": "stdout",
          "output_type": "stream",
          "text": [
            "Accuracy:  0.6705336426914154\n"
          ]
        }
      ]
    },
    {
      "cell_type": "code",
      "metadata": {
        "scrolled": false,
        "id": "N2t4iIVHC7UH",
        "outputId": "6f96b572-fdcc-43d6-f18d-a2eb72724365"
      },
      "source": [
        "sns.heatmap(confusion_matrix(y_test,y_pred))"
      ],
      "execution_count": null,
      "outputs": [
        {
          "data": {
            "text/plain": [
              "<matplotlib.axes._subplots.AxesSubplot at 0x25327e00e08>"
            ]
          },
          "execution_count": 22,
          "metadata": {},
          "output_type": "execute_result"
        },
        {
          "data": {
            "image/png": "[encoded data removed]",
            "text/plain": [
              "<Figure size 432x288 with 2 Axes>"
            ]
          },
          "metadata": {
            "needs_background": "light"
          },
          "output_type": "display_data"
        }
      ]
    },
    {
      "cell_type": "markdown",
      "metadata": {
        "id": "h0PnHkP6C7UI"
      },
      "source": [
        "<h3>Decision Tree Classifier</h3>"
      ]
    },
    {
      "cell_type": "code",
      "metadata": {
        "id": "-_3ByDXtC7UI",
        "outputId": "67b1be74-780d-45db-b4e7-30b540f19ae0"
      },
      "source": [
        "dtc = DecisionTreeClassifier()\n",
        "dtc.fit(X_train, y_train)\n",
        "y_pred = dtc.predict(X_test)\n",
        "print(\"Accuracy: \",accuracy_score(y_test,y_pred))"
      ],
      "execution_count": null,
      "outputs": [
        {
          "name": "stdout",
          "output_type": "stream",
          "text": [
            "Accuracy:  0.38979118329466356\n"
          ]
        }
      ]
    },
    {
      "cell_type": "code",
      "metadata": {
        "scrolled": false,
        "id": "AFfGz7qOC7UI",
        "outputId": "94467d02-dbac-4bc8-80ef-479e09e1ee9a"
      },
      "source": [
        "sns.heatmap(confusion_matrix(y_test,y_pred))"
      ],
      "execution_count": null,
      "outputs": [
        {
          "data": {
            "text/plain": [
              "<matplotlib.axes._subplots.AxesSubplot at 0x25326c89048>"
            ]
          },
          "execution_count": 24,
          "metadata": {},
          "output_type": "execute_result"
        },
        {
          "data": {
            "image/png": "[encoded data removed]",
            "text/plain": [
              "<Figure size 432x288 with 2 Axes>"
            ]
          },
          "metadata": {
            "needs_background": "light"
          },
          "output_type": "display_data"
        }
      ]
    },
    {
      "cell_type": "markdown",
      "metadata": {
        "id": "zAgMVHggC7UJ"
      },
      "source": [
        "<h3>LightGBM Classifier</h3>"
      ]
    },
    {
      "cell_type": "code",
      "metadata": {
        "id": "YGfYHqSaC7UJ"
      },
      "source": [
        "lightgbm = LGBMClassifier()\n",
        "lightgbm.fit(X_train, y_train)\n",
        "y_pred = lightgbm.predict(X_test)\n",
        "print(\"Accuracy: \",accuracy_score(y_test,y_pred))"
      ],
      "execution_count": null,
      "outputs": []
    },
    {
      "cell_type": "code",
      "metadata": {
        "scrolled": true,
        "id": "j70GS2uWC7UJ"
      },
      "source": [
        "sns.heatmap(confusion_matrix(y_test,y_pred))"
      ],
      "execution_count": null,
      "outputs": []
    },
    {
      "cell_type": "markdown",
      "metadata": {
        "id": "2ZktJRReC7UJ"
      },
      "source": [
        "<div style=\"background:#6689b3;color:#fff;padding:1em 2em 1.5em 2em;border-radius: 5px;font-weight:bold\">\n",
        "    <strong>\n",
        "        <h4 style = \"color:#fff\">7 | Conclusion</h4>\n",
        "    </strong>\n",
        "</div>"
      ]
    },
    {
      "cell_type": "markdown",
      "metadata": {
        "id": "m23Rce75C7UK"
      },
      "source": [
        "<p>We have successfully implemented <strong>skeleton based action recognition</strong> using data preprocessing techniques for feature extraction by converting all the <strong>d_skel data stored in the .mat files into 1-D array </strong> and finally building a <strong>classification models</strong> using machine learning techniques</p>"
      ]
    }
  ]
}